{
 "cells": [
  {
   "cell_type": "markdown",
   "metadata": {},
   "source": [
    "# List and It Default Function"
   ]
  },
  {
   "cell_type": "code",
   "execution_count": 30,
   "metadata": {},
   "outputs": [
    {
     "name": "stdout",
     "output_type": "stream",
     "text": [
      "[1234, 'xyz', 'abc', 1, 2, 3]\n",
      "[1234, 'xyz', 'abc', 1, 2, 3, 'Welcome Paython']\n",
      "['xyz', 'abc', 1, 2, 3, 'Welcome Paython']\n",
      "1\n",
      "0\n",
      "['xyz', 1, 2, 3, 'Welcome Paython']\n"
     ]
    }
   ],
   "source": [
    "lst=[1234,\"xyz\",\"abc\",1,2,3]\n",
    "print(lst)\n",
    "lst.append(\"Welcome Paython\")\n",
    "print(lst)\n",
    "lst.pop(0)\n",
    "print(lst)\n",
    "x=lst.count(2)\n",
    "print(x)\n",
    "y=lst.index(\"xyz\")\n",
    "print(y)\n",
    "lst.remove(\"abc\")\n",
    "print(lst)\n"
   ]
  },
  {
   "cell_type": "markdown",
   "metadata": {},
   "source": [
    "# Dictionary and Its Default Functions"
   ]
  },
  {
   "cell_type": "code",
   "execution_count": 47,
   "metadata": {},
   "outputs": [
    {
     "name": "stdout",
     "output_type": "stream",
     "text": [
      "{'name': 'xyz', 'age': 25, 'salary': 25000, 'class': 'first'}\n",
      "25\n",
      "25000\n",
      "{'name': 'xyz', 'age': 25, 'class': 'first', 'phone': 66746767}\n",
      "dict_values(['xyz', 25, 'first', 66746767])\n",
      "{'name': 'xyz', 'age': 25, 'class': 'first', 'phone': 66746767}\n"
     ]
    }
   ],
   "source": [
    "dict={\"name\":\"xyz\",\"age\":25,\"salary\":25000,\"class\":\"first\"}\n",
    "print(dict)\n",
    "x=dict.get(\"age\")\n",
    "print(x)\n",
    "y=dict.pop(\"salary\")\n",
    "print(y)\n",
    "dict.update({\"phone\":66746767})\n",
    "print(dict)\n",
    "z=dict.values()\n",
    "print(z)\n",
    "r=dict.copy()\n",
    "print(r)"
   ]
  },
  {
   "cell_type": "markdown",
   "metadata": {},
   "source": [
    "# Set and its Functions"
   ]
  },
  {
   "cell_type": "code",
   "execution_count": 53,
   "metadata": {},
   "outputs": [
    {
     "name": "stdout",
     "output_type": "stream",
     "text": [
      "{'yellow', 'pink', 'orange', 'blue'}\n",
      "{'yellow', 'orange', 'GREEN', 'pink', 'blue'}\n",
      "{'yellow', 'orange', 'GREEN', 'pink'}\n",
      "{'abc', 'abc1', 'yellow', 'orange', 'GREEN', 'pink', 'xyz'}\n",
      "7\n",
      "abc\n",
      "{'abc1', 'yellow', 'orange', 'GREEN', 'pink', 'xyz'}\n"
     ]
    }
   ],
   "source": [
    "sets={\"pink\",\"orange\",\"yellow\",\"blue\"}\n",
    "print(sets)\n",
    "sets.add(\"GREEN\")\n",
    "print(sets)\n",
    "sets.remove(\"blue\")\n",
    "print(sets)\n",
    "sets.update([\"xyz\",\"abc\",\"abc1\"])\n",
    "print(sets)\n",
    "print(len(sets))\n",
    "x=sets.pop()\n",
    "print(x)\n",
    "print(sets)\n",
    "\n",
    "\n",
    "\n",
    "\n"
   ]
  },
  {
   "cell_type": "markdown",
   "metadata": {},
   "source": [
    "# Tuple and its Default Functions"
   ]
  },
  {
   "cell_type": "code",
   "execution_count": 58,
   "metadata": {},
   "outputs": [
    {
     "name": "stdout",
     "output_type": "stream",
     "text": [
      "('a', 'b', 'c', 'd', 'e', 'f', 'g')\n",
      "5\n",
      "1\n"
     ]
    }
   ],
   "source": [
    "tuple1=(\"a\",\"b\",\"c\",\"d\",\"e\",\"f\",\"g\")\n",
    "print(tuple1)\n",
    "s=tuple1.index(\"f\")\n",
    "print(s)\n",
    "U=tuple1.count(\"b\")\n",
    "print(U)\n",
    "\n"
   ]
  },
  {
   "cell_type": "markdown",
   "metadata": {},
   "source": [
    "# Strings and its Functions"
   ]
  },
  {
   "cell_type": "code",
   "execution_count": 70,
   "metadata": {},
   "outputs": [
    {
     "name": "stdout",
     "output_type": "stream",
     "text": [
      "welcome to python programming\n",
      "False\n",
      "WELCOME TO PYTHON PROGRAMMING\n",
      "True\n",
      "welcome to python language\n"
     ]
    }
   ],
   "source": [
    "str=\"welcome to python programming\"\n",
    "print(str)\n",
    "R=str.isupper()\n",
    "print(R)\n",
    "x=str.upper()\n",
    "print(x)\n",
    "z=str.islower()\n",
    "print(z)\n",
    "S=str.replace(\"programming\",\"language\")\n",
    "print(S)\n"
   ]
  },
  {
   "cell_type": "code",
   "execution_count": null,
   "metadata": {},
   "outputs": [],
   "source": []
  }
 ],
 "metadata": {
  "kernelspec": {
   "display_name": "Python 3",
   "language": "python",
   "name": "python3"
  },
  "language_info": {
   "codemirror_mode": {
    "name": "ipython",
    "version": 3
   },
   "file_extension": ".py",
   "mimetype": "text/x-python",
   "name": "python",
   "nbconvert_exporter": "python",
   "pygments_lexer": "ipython3",
   "version": "3.8.3"
  }
 },
 "nbformat": 4,
 "nbformat_minor": 4
}
