{
 "cells": [
  {
   "cell_type": "code",
   "execution_count": 3,
   "metadata": {},
   "outputs": [
    {
     "name": "stdout",
     "output_type": "stream",
     "text": [
      "Requirement already satisfied: pylint in c:\\anaconda\\lib\\site-packages (2.5.3)\n",
      "Requirement already satisfied: toml>=0.7.1 in c:\\anaconda\\lib\\site-packages (from pylint) (0.10.1)\n",
      "Requirement already satisfied: astroid<=2.5,>=2.4.0 in c:\\anaconda\\lib\\site-packages (from pylint) (2.4.2)\n",
      "Requirement already satisfied: colorama; sys_platform == \"win32\" in c:\\anaconda\\lib\\site-packages (from pylint) (0.4.3)\n",
      "Requirement already satisfied: isort<5,>=4.2.5 in c:\\anaconda\\lib\\site-packages (from pylint) (4.3.21)\n",
      "Requirement already satisfied: mccabe<0.7,>=0.6 in c:\\anaconda\\lib\\site-packages (from pylint) (0.6.1)\n",
      "Requirement already satisfied: six~=1.12 in c:\\anaconda\\lib\\site-packages (from astroid<=2.5,>=2.4.0->pylint) (1.15.0)\n",
      "Requirement already satisfied: lazy-object-proxy==1.4.* in c:\\anaconda\\lib\\site-packages (from astroid<=2.5,>=2.4.0->pylint) (1.4.3)\n",
      "Requirement already satisfied: wrapt~=1.11 in c:\\anaconda\\lib\\site-packages (from astroid<=2.5,>=2.4.0->pylint) (1.11.2)\n"
     ]
    }
   ],
   "source": [
    "! pip install pylint\n"
   ]
  },
  {
   "cell_type": "code",
   "execution_count": 43,
   "metadata": {},
   "outputs": [
    {
     "name": "stdout",
     "output_type": "stream",
     "text": [
      "Overwriting prime_code.py\n"
     ]
    }
   ],
   "source": [
    "%%writefile prime_code.py\n",
    "\n",
    "'''\n",
    "It is a peice of non-sense example code\n",
    "'''\n",
    "def finding_factors(number):\n",
    "    '''\n",
    "    It is a peice of non-sense example code\n",
    "    '''\n",
    "\n",
    "    count = 0\n",
    "\n",
    "    for i in range(2, (number//2 + 1)):\n",
    "        if number % i == 0:\n",
    "            count = count + 1\n",
    "    return count\n",
    "\n",
    "Num = int(input(\" Please Enter any Number: \"))\n",
    "\n",
    "CNT = finding_factors(Num)\n",
    "\n",
    "if CNT == 0 and Num != 1:\n",
    "    print(\" %d is a Prime Number\"%Num)\n",
    "else:\n",
    "    print(\" %d is not a Prime Number\"%Num)"
   ]
  },
  {
   "cell_type": "code",
   "execution_count": 44,
   "metadata": {},
   "outputs": [
    {
     "name": "stdout",
     "output_type": "stream",
     "text": [
      "\n",
      "--------------------------------------------------------------------\n",
      "\n",
      "Your code has been rated at 10.00/10 (previous run: 10.00/10, +0.00)\n",
      "\n",
      "\n",
      "\n"
     ]
    }
   ],
   "source": [
    "! pylint \"prime_code.py\""
   ]
  },
  {
   "cell_type": "code",
   "execution_count": null,
   "metadata": {},
   "outputs": [],
   "source": [
    "%%writefile PrimeTest.py\n",
    "import unittest\n",
    "\n",
    "class testCapTitle(unittest.TestCase):\n",
    "\n",
    "    def finding_factors(number):\n",
    "    \n",
    "    count = 0\n",
    "\n",
    "    for i in range(2, (number//2 + 1)):\n",
    "        if number % i == 0:\n",
    "            count = count + 1\n",
    "    return count\n",
    "\n",
    "Num = int(input(\" Please Enter any Number: \"))\n",
    "\n",
    "CNT = finding_factors(Num)\n",
    "\n",
    "if CNT == 0 and Num != 1:\n",
    "    print(\" %d is a Prime Number\"%Num)\n",
    "else:\n",
    "    print(\" %d is not a Prime Number\"%Num)\n",
    "if __name__ == \"__main__\":\n",
    "    unittest.main()"
   ]
  },
  {
   "cell_type": "code",
   "execution_count": null,
   "metadata": {},
   "outputs": [],
   "source": [
    "!python PrimeTest.py"
   ]
  },
  {
   "cell_type": "code",
   "execution_count": null,
   "metadata": {},
   "outputs": [],
   "source": []
  },
  {
   "cell_type": "code",
   "execution_count": null,
   "metadata": {},
   "outputs": [],
   "source": []
  }
 ],
 "metadata": {
  "kernelspec": {
   "display_name": "Python 3",
   "language": "python",
   "name": "python3"
  },
  "language_info": {
   "codemirror_mode": {
    "name": "ipython",
    "version": 3
   },
   "file_extension": ".py",
   "mimetype": "text/x-python",
   "name": "python",
   "nbconvert_exporter": "python",
   "pygments_lexer": "ipython3",
   "version": "3.8.3"
  }
 },
 "nbformat": 4,
 "nbformat_minor": 4
}
