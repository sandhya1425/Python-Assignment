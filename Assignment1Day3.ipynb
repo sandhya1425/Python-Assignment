{
 "cells": [
  {
   "cell_type": "code",
   "execution_count": 8,
   "metadata": {},
   "outputs": [
    {
     "name": "stdout",
     "output_type": "stream",
     "text": [
      "Enter Altitude:1000\n",
      "land the plane!!\n"
     ]
    }
   ],
   "source": [
    "altitude=input(\"Enter Altitude:\")\n",
    "\n",
    "altitude=int(altitude)\n",
    "if altitude<=1000:\n",
    "    print(\"Safe to land the plane!!\")\n",
    "elif altitude<=5000:\n",
    "    print(\"Bring Down to 1000ft\")\n",
    "else:\n",
    "    print(\"Turn Around\")\n",
    "    "
   ]
  },
  {
   "cell_type": "code",
   "execution_count": null,
   "metadata": {},
   "outputs": [],
   "source": []
  },
  {
   "cell_type": "code",
   "execution_count": null,
   "metadata": {},
   "outputs": [],
   "source": []
  }
 ],
 "metadata": {
  "kernelspec": {
   "display_name": "Python 3",
   "language": "python",
   "name": "python3"
  },
  "language_info": {
   "codemirror_mode": {
    "name": "ipython",
    "version": 3
   },
   "file_extension": ".py",
   "mimetype": "text/x-python",
   "name": "python",
   "nbconvert_exporter": "python",
   "pygments_lexer": "ipython3",
   "version": "3.8.3"
  }
 },
 "nbformat": 4,
 "nbformat_minor": 4
}
