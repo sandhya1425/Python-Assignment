{
  "nbformat": 4,
  "nbformat_minor": 0,
  "metadata": {
    "colab": {
      "name": "LU_FCS_DAY6_ASSIGNMENT.ipynb",
      "provenance": [],
      "collapsed_sections": []
    },
    "kernelspec": {
      "name": "python3",
      "display_name": "Python 3"
    }
  },
  "cells": [
    {
      "cell_type": "markdown",
      "metadata": {
        "id": "O7q0vL8Ze6jM",
        "colab_type": "text"
      },
      "source": [
        "# **Question 1**"
      ]
    },
    {
      "cell_type": "code",
      "metadata": {
        "id": "foFLZ-S6efcI",
        "colab_type": "code",
        "colab": {
          "base_uri": "https://localhost:8080/",
          "height": 52
        },
        "outputId": "4db5424e-4099-4385-9e33-53501562390d"
      },
      "source": [
        "# Define the class \n",
        "class BankOps:\n",
        "  #Define the constructor\n",
        "  def __init__(self,owner_name,balance = 500):\n",
        "    # Instaniate the account\n",
        "    self.owner_name = owner_name\n",
        "    self.balance = balance\n",
        "\n",
        "  # Define the deposit() method\n",
        "  def deposit(self,amt):\n",
        "    # Deposit money and update the existing balance\n",
        "    self.balance += amt\n",
        "\n",
        "  # Method for money withdrawl\n",
        "  def withdraw(self,amt):\n",
        "    # Check whether withdrawl amount is valid or not\n",
        "    if amt>self.balance:\n",
        "      print(\"Insufficient balance!\")\n",
        "    else:\n",
        "      self.balance -= amt\n",
        "    \n",
        "  # Method to show balance details\n",
        "  def showDetails(self):\n",
        "    print(\"Your name : \",self.owner_name)\n",
        "    print(\"Your existing balance is \", self.balance)\n",
        "  \n",
        "bank = BankOps(\"abc\",1000)\n",
        "bank.deposit(5000)\n",
        "bank.withdraw(455)\n",
        "bank.showDetails()\n",
        "  \n"
      ],
      "execution_count": 9,
      "outputs": [
        {
          "output_type": "stream",
          "text": [
            "Your name :  abc\n",
            "Your existing balance is  5545\n"
          ],
          "name": "stdout"
        }
      ]
    },
    {
      "cell_type": "code",
      "metadata": {
        "id": "2EpqRRQfe2n8",
        "colab_type": "code",
        "colab": {}
      },
      "source": [
        ""
      ],
      "execution_count": null,
      "outputs": []
    },
    {
      "cell_type": "markdown",
      "metadata": {
        "id": "O1oxj5nFeg8t",
        "colab_type": "text"
      },
      "source": [
        "# **Question2**"
      ]
    },
    {
      "cell_type": "code",
      "metadata": {
        "id": "b9m19w03fkAs",
        "colab_type": "code",
        "colab": {
          "base_uri": "https://localhost:8080/",
          "height": 69
        },
        "outputId": "299ebc70-bff0-4b50-9679-d52c80cda677"
      },
      "source": [
        "import math as m\n",
        "\n",
        "# Create class with two attributes : radius, height\n",
        "class Area:\n",
        "  def __init__(self,r,h):\n",
        "    self.r = r\n",
        "    self.h = h\n",
        "\n",
        "  def volume(self):\n",
        "    print(\"Volume of cone:\",(m.pi*(self.r**2)*(self.h/3)))\n",
        "    \n",
        "\n",
        "  def surface_area(self):\n",
        "    #Formula : pi*r(r+sqrt(h2+r2; ))\n",
        "    print(\"Surface area of cone \")\n",
        "    return m.pi*self.r*(self.r+m.sqrt((self.r**2)+(self.h**2)))\n",
        "    \n",
        "\n",
        "ar=Area(5,13)\n",
        "ar.volume()\n",
        "ar.surface_area()\n"
      ],
      "execution_count": 31,
      "outputs": [
        {
          "output_type": "stream",
          "text": [
            "Volume of cone: 340.3392041388943\n",
            "Surface area of cone \n"
          ],
          "name": "stdout"
        },
        {
          "output_type": "execute_result",
          "data": {
            "text/plain": [
              "297.32642777948394"
            ]
          },
          "metadata": {
            "tags": []
          },
          "execution_count": 31
        }
      ]
    },
    {
      "cell_type": "code",
      "metadata": {
        "id": "NCqQfb7ugg45",
        "colab_type": "code",
        "colab": {
          "base_uri": "https://localhost:8080/",
          "height": 34
        },
        "outputId": "13ed9923-a45b-4eaa-b53a-8a4be8b7c69d"
      },
      "source": [
        "import math\n",
        "print(math.pi)"
      ],
      "execution_count": 10,
      "outputs": [
        {
          "output_type": "stream",
          "text": [
            "3.141592653589793\n"
          ],
          "name": "stdout"
        }
      ]
    },
    {
      "cell_type": "code",
      "metadata": {
        "id": "JwpmJxu6gi0g",
        "colab_type": "code",
        "colab": {}
      },
      "source": [
        ""
      ],
      "execution_count": null,
      "outputs": []
    }
  ]
}